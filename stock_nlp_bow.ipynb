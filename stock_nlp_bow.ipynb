{
  "nbformat": 4,
  "nbformat_minor": 0,
  "metadata": {
    "colab": {
      "name": "Copy of (Student) NLP for Finance Notebook I.ipynb",
      "provenance": [],
      "collapsed_sections": []
    },
    "kernelspec": {
      "name": "python3",
      "display_name": "Python 3"
    }
  },
  "cells": [
    {
      "cell_type": "code",
      "metadata": {
        "id": "JRbS-bj3tGkQ",
        "colab": {
          "base_uri": "https://localhost:8080/"
        },
        "outputId": "2a585e9c-959a-4da0-bb5b-3fb0711e0021"
      },
      "source": [
        "%load_ext autoreload\n",
        "%autoreload 2\n",
        "from collections import Counter\n",
        "from importlib.machinery import SourceFileLoader\n",
        "import numpy as np\n",
        "from os.path import join\n",
        "import warnings\n",
        "warnings.filterwarnings(\"ignore\")\n",
        "\n",
        "import nltk\n",
        "nltk.download('punkt')\n",
        "import seaborn as sns\n",
        "import matplotlib\n",
        "import matplotlib.pyplot as plt\n",
        "from nltk.tokenize import sent_tokenize, word_tokenize\n",
        "from nltk.stem.wordnet import WordNetLemmatizer\n",
        "from nltk.stem.porter import *\n",
        "from nltk.corpus import stopwords\n",
        "nltk.download('stopwords' ,quiet=True)\n",
        "from sklearn.feature_extraction.text import CountVectorizer\n",
        "from sklearn.linear_model import LogisticRegression\n",
        "from sklearn.model_selection import train_test_split\n",
        "import pandas as pd\n",
        "from sklearn.metrics import multilabel_confusion_matrix\n",
        "from sklearn import metrics\n",
        "import gdown\n",
        "import string\n",
        "from wordcloud import WordCloud, STOPWORDS\n",
        "import matplotlib.pyplot as plt\n",
        "pd.set_option('max_colwidth', 100)\n",
        "from sklearn.feature_extraction.text import CountVectorizer\n",
        "\n",
        "\n",
        "nltk.download('wordnet')\n",
        "\n",
        "# gdown.download('https://drive.google.com/uc?id=1q4U2gVY9tWEPdT6W-pdQpKmo152QqWLE', 'finance_train.csv', True)\n",
        "# gdown.download('https://drive.google.com/uc?id=1nIBqAsItwVEGVayYTgvybz7HeK0asom0', 'finance_test.csv', True)\n",
        "\n",
        "!wget 'https://storage.googleapis.com/inspirit-ai-data-bucket-1/Data/AI%20Scholars/Sessions%206%20-%2010%20(Projects)/Project%20-%20NLP%2BFinance/finance_test.csv'\n",
        "!wget 'https://storage.googleapis.com/inspirit-ai-data-bucket-1/Data/AI%20Scholars/Sessions%206%20-%2010%20(Projects)/Project%20-%20NLP%2BFinance/finance_train.csv'\n",
        "\n",
        "def get_finance_train():\n",
        "  df_train = pd.read_csv(\"finance_train.csv\")\n",
        "  return df_train\n",
        "def get_finance_test():\n",
        "  df_test = pd.read_csv(\"finance_test.csv\")\n",
        "  return df_test\n",
        "\n",
        "def preprocess_data(df):\n",
        "  sentences = df.Sentence.values\n",
        "  labels = df.Label.values\n",
        "  tokenized_sentences = [word_tokenize(word) for word in sentences]\n",
        "  filtered_sentences = [remove_stopwords(word) for word in tokenized_sentences]\n",
        "  return filtered_sentences, labels\n",
        "\n",
        "def plot_confusion_matrix(y_true,y_predicted):\n",
        "  cm = metrics.confusion_matrix(y_true, y_predicted)\n",
        "  print (\"Plotting the Confusion Matrix\")\n",
        "  labels = [\"Negative\",\"Neutral\",\"Positive\"]\n",
        "  df_cm = pd.DataFrame(cm,index =labels,columns = labels)\n",
        "  fig = plt.figure(figsize=(14,12))\n",
        "  res = sns.heatmap(df_cm, annot=True,cmap='Blues', fmt='g')\n",
        "  plt.yticks([0.5,1.5,2.5], labels,va='center')\n",
        "  plt.title('Confusion Matrix - TestData')\n",
        "  plt.ylabel('True label')\n",
        "  plt.xlabel('Predicted label')\n",
        "  plt.show()\n",
        "  plt.close()\n",
        "\n",
        "LABEL_MAP = {0 : \"negative\", 1 : \"neutral\", 2 : \"positive\"}\n",
        "STOPWORD_SET = set(stopwords.words('english'))\n",
        "\n",
        "print (\"Train & Test Files are loaded\")"
      ],
      "execution_count": null,
      "outputs": [
        {
          "output_type": "stream",
          "text": [
            "[nltk_data] Downloading package punkt to /root/nltk_data...\n",
            "[nltk_data]   Unzipping tokenizers/punkt.zip.\n",
            "[nltk_data] Downloading package wordnet to /root/nltk_data...\n",
            "[nltk_data]   Unzipping corpora/wordnet.zip.\n",
            "--2021-07-29 15:43:01--  https://storage.googleapis.com/inspirit-ai-data-bucket-1/Data/AI%20Scholars/Sessions%206%20-%2010%20(Projects)/Project%20-%20NLP%2BFinance/finance_test.csv\n",
            "Resolving storage.googleapis.com (storage.googleapis.com)... 173.194.214.128, 173.194.215.128, 173.194.216.128, ...\n",
            "Connecting to storage.googleapis.com (storage.googleapis.com)|173.194.214.128|:443... connected.\n",
            "HTTP request sent, awaiting response... 200 OK\n",
            "Length: 29264 (29K) [application/vnd.ms-excel]\n",
            "Saving to: ‘finance_test.csv’\n",
            "\n",
            "finance_test.csv    100%[===================>]  28.58K  --.-KB/s    in 0s      \n",
            "\n",
            "2021-07-29 15:43:01 (113 MB/s) - ‘finance_test.csv’ saved [29264/29264]\n",
            "\n",
            "--2021-07-29 15:43:01--  https://storage.googleapis.com/inspirit-ai-data-bucket-1/Data/AI%20Scholars/Sessions%206%20-%2010%20(Projects)/Project%20-%20NLP%2BFinance/finance_train.csv\n",
            "Resolving storage.googleapis.com (storage.googleapis.com)... 172.217.204.128, 74.125.26.128, 74.125.31.128, ...\n",
            "Connecting to storage.googleapis.com (storage.googleapis.com)|172.217.204.128|:443... connected.\n",
            "HTTP request sent, awaiting response... 200 OK\n",
            "Length: 258593 (253K) [application/vnd.ms-excel]\n",
            "Saving to: ‘finance_train.csv’\n",
            "\n",
            "finance_train.csv   100%[===================>] 252.53K  --.-KB/s    in 0.004s  \n",
            "\n",
            "2021-07-29 15:43:01 (65.7 MB/s) - ‘finance_train.csv’ saved [258593/258593]\n",
            "\n",
            "Train & Test Files are loaded\n"
          ],
          "name": "stdout"
        }
      ]
    },
    {
      "cell_type": "code",
      "metadata": {
        "id": "yg_P864EbhXJ",
        "colab": {
          "base_uri": "https://localhost:8080/",
          "height": 204
        },
        "outputId": "5738217b-596f-42cc-e9ac-aafcbb9b4039"
      },
      "source": [
        "df_train = get_finance_train()\n",
        "df_train.head()\n"
      ],
      "execution_count": null,
      "outputs": [
        {
          "output_type": "execute_result",
          "data": {
            "text/html": [
              "<div>\n",
              "<style scoped>\n",
              "    .dataframe tbody tr th:only-of-type {\n",
              "        vertical-align: middle;\n",
              "    }\n",
              "\n",
              "    .dataframe tbody tr th {\n",
              "        vertical-align: top;\n",
              "    }\n",
              "\n",
              "    .dataframe thead th {\n",
              "        text-align: right;\n",
              "    }\n",
              "</style>\n",
              "<table border=\"1\" class=\"dataframe\">\n",
              "  <thead>\n",
              "    <tr style=\"text-align: right;\">\n",
              "      <th></th>\n",
              "      <th>Sentence</th>\n",
              "      <th>Label</th>\n",
              "    </tr>\n",
              "  </thead>\n",
              "  <tbody>\n",
              "    <tr>\n",
              "      <th>0</th>\n",
              "      <td>Autotank Group is part of Aspo 's Systems Division .</td>\n",
              "      <td>1</td>\n",
              "    </tr>\n",
              "    <tr>\n",
              "      <th>1</th>\n",
              "      <td>The contract includes design , construction , delivery of equipment , installation and commissio...</td>\n",
              "      <td>1</td>\n",
              "    </tr>\n",
              "    <tr>\n",
              "      <th>2</th>\n",
              "      <td>Rapala said it estimates it will make savings of 1-2 mln eur a year by centralising its French o...</td>\n",
              "      <td>2</td>\n",
              "    </tr>\n",
              "    <tr>\n",
              "      <th>3</th>\n",
              "      <td>The share capital of Alma Media Corporation (business ID 1944757-4)is EUR 45,031,513.80 and it i...</td>\n",
              "      <td>1</td>\n",
              "    </tr>\n",
              "    <tr>\n",
              "      <th>4</th>\n",
              "      <td>The financial impact is estimated to be some 1.5 MEUR annual improvement in the division 's resu...</td>\n",
              "      <td>2</td>\n",
              "    </tr>\n",
              "  </tbody>\n",
              "</table>\n",
              "</div>"
            ],
            "text/plain": [
              "                                                                                              Sentence  Label\n",
              "0                                                 Autotank Group is part of Aspo 's Systems Division .      1\n",
              "1  The contract includes design , construction , delivery of equipment , installation and commissio...      1\n",
              "2  Rapala said it estimates it will make savings of 1-2 mln eur a year by centralising its French o...      2\n",
              "3  The share capital of Alma Media Corporation (business ID 1944757-4)is EUR 45,031,513.80 and it i...      1\n",
              "4  The financial impact is estimated to be some 1.5 MEUR annual improvement in the division 's resu...      2"
            ]
          },
          "metadata": {
            "tags": []
          },
          "execution_count": 3
        }
      ]
    },
    {
      "cell_type": "code",
      "metadata": {
        "id": "D_p44_H_cvJf",
        "colab": {
          "base_uri": "https://localhost:8080/"
        },
        "outputId": "883cab1e-9a4d-4e08-d688-cdfd932e0ffe"
      },
      "source": [
        "length = len(df_train)\n",
        "print(length)\n"
      ],
      "execution_count": null,
      "outputs": [
        {
          "output_type": "stream",
          "text": [
            "2037\n"
          ],
          "name": "stdout"
        }
      ]
    },
    {
      "cell_type": "code",
      "metadata": {
        "id": "tuIfl1s4e83o",
        "colab": {
          "base_uri": "https://localhost:8080/",
          "height": 204
        },
        "outputId": "0c4bbb63-1099-4531-c5ad-5e54e56764fb"
      },
      "source": [
        "df_test = get_finance_test()\n",
        "df_test.head()\n"
      ],
      "execution_count": null,
      "outputs": [
        {
          "output_type": "execute_result",
          "data": {
            "text/html": [
              "<div>\n",
              "<style scoped>\n",
              "    .dataframe tbody tr th:only-of-type {\n",
              "        vertical-align: middle;\n",
              "    }\n",
              "\n",
              "    .dataframe tbody tr th {\n",
              "        vertical-align: top;\n",
              "    }\n",
              "\n",
              "    .dataframe thead th {\n",
              "        text-align: right;\n",
              "    }\n",
              "</style>\n",
              "<table border=\"1\" class=\"dataframe\">\n",
              "  <thead>\n",
              "    <tr style=\"text-align: right;\">\n",
              "      <th></th>\n",
              "      <th>Sentence</th>\n",
              "      <th>Label</th>\n",
              "    </tr>\n",
              "  </thead>\n",
              "  <tbody>\n",
              "    <tr>\n",
              "      <th>0</th>\n",
              "      <td>In the third quarter of 2010 , net sales increased by 5.2 % to EUR 205.5 mn , and operating prof...</td>\n",
              "      <td>2</td>\n",
              "    </tr>\n",
              "    <tr>\n",
              "      <th>1</th>\n",
              "      <td>Foundries division reports its sales increased by 9.7 % to EUR 63.1 mn from EUR 57.5 mn in the c...</td>\n",
              "      <td>2</td>\n",
              "    </tr>\n",
              "    <tr>\n",
              "      <th>2</th>\n",
              "      <td>Financing of the project will come mainly from China .</td>\n",
              "      <td>1</td>\n",
              "    </tr>\n",
              "    <tr>\n",
              "      <th>3</th>\n",
              "      <td>Sukhraj Dulai , of the 2900 block of Boni Sue Court , a cul-de-sac on the city 's north side , s...</td>\n",
              "      <td>1</td>\n",
              "    </tr>\n",
              "    <tr>\n",
              "      <th>4</th>\n",
              "      <td>Finland 's leading metals group Outokumpu said its fourth-quarter net profit more than tripled o...</td>\n",
              "      <td>2</td>\n",
              "    </tr>\n",
              "  </tbody>\n",
              "</table>\n",
              "</div>"
            ],
            "text/plain": [
              "                                                                                              Sentence  Label\n",
              "0  In the third quarter of 2010 , net sales increased by 5.2 % to EUR 205.5 mn , and operating prof...      2\n",
              "1  Foundries division reports its sales increased by 9.7 % to EUR 63.1 mn from EUR 57.5 mn in the c...      2\n",
              "2                                               Financing of the project will come mainly from China .      1\n",
              "3  Sukhraj Dulai , of the 2900 block of Boni Sue Court , a cul-de-sac on the city 's north side , s...      1\n",
              "4  Finland 's leading metals group Outokumpu said its fourth-quarter net profit more than tripled o...      2"
            ]
          },
          "metadata": {
            "tags": []
          },
          "execution_count": 5
        }
      ]
    },
    {
      "cell_type": "code",
      "metadata": {
        "id": "OiyIsd_WfS4F",
        "colab": {
          "base_uri": "https://localhost:8080/"
        },
        "outputId": "8d409e4f-efa7-4585-a02b-f6037b267f99"
      },
      "source": [
        "print(len(df_test))\n"
      ],
      "execution_count": null,
      "outputs": [
        {
          "output_type": "stream",
          "text": [
            "227\n"
          ],
          "name": "stdout"
        }
      ]
    },
    {
      "cell_type": "code",
      "metadata": {
        "id": "aGWhut4LV46J"
      },
      "source": [
        "negative_data = df_train[df_train['Label']==0]"
      ],
      "execution_count": null,
      "outputs": []
    },
    {
      "cell_type": "code",
      "metadata": {
        "id": "8G9v3GXYX8eE"
      },
      "source": [
        "positive_data = df_train[df_train['Label']==2]"
      ],
      "execution_count": null,
      "outputs": []
    },
    {
      "cell_type": "code",
      "metadata": {
        "id": "crnlTDWpjMAN"
      },
      "source": [
        "def remove_stopwords(tokenized_sentence):\n",
        "  filtered_sentence = []\n",
        "  for word in tokenized_sentence:\n",
        "    if word not in STOPWORD_SET:\n",
        "      filtered_sentence.append(word)\n",
        "  return filtered_sentence"
      ],
      "execution_count": null,
      "outputs": []
    },
    {
      "cell_type": "code",
      "metadata": {
        "id": "afa0hTAbIVpQ",
        "colab": {
          "base_uri": "https://localhost:8080/"
        },
        "outputId": "156c87a9-cd09-4f20-b105-dd01cddd9201"
      },
      "source": [
        "train_sentences, train_labels = preprocess_data(df_train)\n",
        "for item in range(5):\n",
        "  print(train_sentences[item])\n",
        "\n"
      ],
      "execution_count": null,
      "outputs": [
        {
          "output_type": "stream",
          "text": [
            "['Autotank', 'Group', 'part', 'Aspo', \"'s\", 'Systems', 'Division', '.']\n",
            "['The', 'contract', 'includes', 'design', ',', 'construction', ',', 'delivery', 'equipment', ',', 'installation', 'commissioning', '.']\n",
            "['Rapala', 'said', 'estimates', 'make', 'savings', '1-2', 'mln', 'eur', 'year', 'centralising', 'French', 'operations', 'one', 'site', '.']\n",
            "['The', 'share', 'capital', 'Alma', 'Media', 'Corporation', '(', 'business', 'ID', '1944757-4', ')', 'EUR', '45,031,513.80', 'divided', '75,052,523', 'shares', '.']\n",
            "['The', 'financial', 'impact', 'estimated', '1.5', 'MEUR', 'annual', 'improvement', 'division', \"'s\", 'result', ',', 'starting', 'fiscal', 'year', '2007', '.']\n"
          ],
          "name": "stdout"
        }
      ]
    },
    {
      "cell_type": "code",
      "metadata": {
        "id": "ZfoBdkeHqKlG",
        "colab": {
          "base_uri": "https://localhost:8080/"
        },
        "outputId": "b6353f63-ab90-42d3-9897-13aafa0db8de"
      },
      "source": [
        "test_sentences, test_labels = preprocess_data(df_test)\n",
        "for item in range(5):\n",
        "  print(test_sentences[item])"
      ],
      "execution_count": null,
      "outputs": [
        {
          "output_type": "stream",
          "text": [
            "['In', 'third', 'quarter', '2010', ',', 'net', 'sales', 'increased', '5.2', '%', 'EUR', '205.5', 'mn', ',', 'operating', 'profit', '34.9', '%', 'EUR', '23.5', 'mn', '.']\n",
            "['Foundries', 'division', 'reports', 'sales', 'increased', '9.7', '%', 'EUR', '63.1', 'mn', 'EUR', '57.5', 'mn', 'corresponding', 'period', '2006', ',', 'sales', 'Machine', 'Shop', 'division', 'increased', '16.4', '%', 'EUR', '41.2', 'mn', 'EUR', '35.4', 'mn', 'corresponding', 'period', '2006', '.']\n",
            "['Financing', 'project', 'come', 'mainly', 'China', '.']\n",
            "['Sukhraj', 'Dulai', ',', '2900', 'block', 'Boni', 'Sue', 'Court', ',', 'cul-de-sac', 'city', \"'s\", 'north', 'side', ',', 'started', 'vehicle', 'went', 'inside', 'house', '8', 'a.m.', 'Tuesday', ',', 'leaving', 'garage', 'door', 'open', '.']\n",
            "['Finland', \"'s\", 'leading', 'metals', 'group', 'Outokumpu', 'said', 'fourth-quarter', 'net', 'profit', 'tripled', 'back', 'strong', 'global', 'demand', 'stainless', 'steel', ',', 'soaring', 'base', 'metal', 'prices', 'proceeds', 'sale', 'technology', 'unit', '.']\n"
          ],
          "name": "stdout"
        }
      ]
    },
    {
      "cell_type": "code",
      "metadata": {
        "id": "i96tDQEfqLpf"
      },
      "source": [
        "all_sentences = [\"Google AI made remarkable achievements in 2019.\", \"Google Stock was at its all time high\"]\n",
        "\n",
        "vectorizer = CountVectorizer()"
      ],
      "execution_count": null,
      "outputs": []
    },
    {
      "cell_type": "code",
      "metadata": {
        "id": "chyjG4tezJsy",
        "colab": {
          "base_uri": "https://localhost:8080/"
        },
        "outputId": "6ebb9342-e638-4814-fe12-f7b4b5205b78"
      },
      "source": [
        "vectorizer.fit(all_sentences)"
      ],
      "execution_count": null,
      "outputs": [
        {
          "output_type": "execute_result",
          "data": {
            "text/plain": [
              "CountVectorizer(analyzer='word', binary=False, decode_error='strict',\n",
              "                dtype=<class 'numpy.int64'>, encoding='utf-8', input='content',\n",
              "                lowercase=True, max_df=1.0, max_features=None, min_df=1,\n",
              "                ngram_range=(1, 1), preprocessor=None, stop_words=None,\n",
              "                strip_accents=None, token_pattern='(?u)\\\\b\\\\w\\\\w+\\\\b',\n",
              "                tokenizer=None, vocabulary=None)"
            ]
          },
          "metadata": {
            "tags": []
          },
          "execution_count": 25
        }
      ]
    },
    {
      "cell_type": "code",
      "metadata": {
        "id": "5eP2JLaTzcYK",
        "colab": {
          "base_uri": "https://localhost:8080/"
        },
        "outputId": "755bef64-ca9a-41cd-c8e3-11b2ddc10065"
      },
      "source": [
        "bag_of_words_matrix = vectorizer.transform(all_sentences).toarray()\n",
        "\n",
        "print(bag_of_words_matrix)"
      ],
      "execution_count": null,
      "outputs": [
        {
          "output_type": "stream",
          "text": [
            "[[1 1 1 0 0 1 0 1 0 1 1 0 0 0]\n",
            " [0 0 0 1 1 1 1 0 1 0 0 1 1 1]]\n"
          ],
          "name": "stdout"
        }
      ]
    },
    {
      "cell_type": "code",
      "metadata": {
        "id": "d50KgnJCziGF",
        "colab": {
          "base_uri": "https://localhost:8080/"
        },
        "outputId": "589cc3f4-a021-4c08-e65b-a0757aee24b8"
      },
      "source": [
        "print(bag_of_words_matrix.shape)\n"
      ],
      "execution_count": null,
      "outputs": [
        {
          "output_type": "stream",
          "text": [
            "(2, 14)\n"
          ],
          "name": "stdout"
        }
      ]
    },
    {
      "cell_type": "code",
      "metadata": {
        "id": "5rvuP07fmqNI"
      },
      "source": [
        "def train_model(train_sentences, train_labels):\n",
        "  train_sentences = [\" \".join(t) for t in train_sentences]\n",
        "  train_labels = [l for l in train_labels]\n",
        "    \n",
        "  vectorizer = CountVectorizer()\n",
        "\n",
        "  train_vect = vectorizer.fit(train_sentences).transform(train_sentences)\n",
        "  \n",
        "  model = LogisticRegression()\n",
        "\n",
        "  model.fit(train_vect, train_labels)\n",
        "  \n",
        "  return model, vectorizer"
      ],
      "execution_count": null,
      "outputs": []
    },
    {
      "cell_type": "code",
      "metadata": {
        "id": "yIzitFhC2Ot_"
      },
      "source": [
        "model, train_vectorizer = train_model(train_sentences, train_labels)"
      ],
      "execution_count": null,
      "outputs": []
    },
    {
      "cell_type": "code",
      "metadata": {
        "id": "rT-hePIea_OU"
      },
      "source": [
        "def predict(test_sentences, test_labels, vectorizer, model):\n",
        "  test_sentences = [\" \".join(t) for t in  test_sentences]\n",
        "    \n",
        "  test_vect = vectorizer.transform(test_sentences)\n",
        "\n",
        "  preds = model.predict(test_vect)\n",
        "  \n",
        "  acc = metrics.accuracy_score(test_labels, preds)\n",
        "  return preds, acc"
      ],
      "execution_count": null,
      "outputs": []
    },
    {
      "cell_type": "code",
      "metadata": {
        "id": "3U9lXZeRFf8b"
      },
      "source": [
        "y_predictions, test_accuracy = predict(test_sentences, test_labels, train_vectorizer, model)\n"
      ],
      "execution_count": null,
      "outputs": []
    },
    {
      "cell_type": "code",
      "metadata": {
        "id": "3IOUB6IGbhHl",
        "colab": {
          "base_uri": "https://localhost:8080/",
          "height": 747
        },
        "outputId": "f9cddb63-dee0-4095-dbf5-799db72959f0"
      },
      "source": [
        "plot_confusion_matrix(test_labels, y_predictions)"
      ],
      "execution_count": null,
      "outputs": [
        {
          "output_type": "stream",
          "text": [
            "Plotting the Confusion Matrix\n"
          ],
          "name": "stdout"
        },
        {
          "output_type": "display_data",
          "data": {
            "image/png": "[encoded data removed]",
            "text/plain": [
              "<Figure size 1008x864 with 2 Axes>"
            ]
          },
          "metadata": {
            "tags": [],
            "needs_background": "light"
          }
        }
      ]
    }
  ]
}